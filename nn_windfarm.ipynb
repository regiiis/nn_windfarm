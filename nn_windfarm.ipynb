{
  "nbformat": 4,
  "nbformat_minor": 0,
  "metadata": {
    "colab": {
      "name": "nn_windfarm.ipynb",
      "provenance": [],
      "authorship_tag": "ABX9TyNyELy1xiAJtLFWyGP0tl4d"
    },
    "kernelspec": {
      "name": "python3",
      "display_name": "Python 3"
    },
    "language_info": {
      "name": "python"
    }
  },
  "cells": [
    {
      "cell_type": "code",
      "execution_count": 1,
      "metadata": {
        "colab": {
          "base_uri": "https://localhost:8080/"
        },
        "id": "QR9gAsreRXDr",
        "outputId": "ff4e5549-ee3a-44d6-d7b4-56cca5057e28"
      },
      "outputs": [
        {
          "output_type": "stream",
          "name": "stdout",
          "text": [
            "Not connected to a GPU\n"
          ]
        }
      ],
      "source": [
        "gpu_info = !nvidia-smi\n",
        "gpu_info = '\\n'.join(gpu_info)\n",
        "if gpu_info.find('failed') >= 0:\n",
        "  print('Not connected to a GPU')\n",
        "else:\n",
        "  print(gpu_info)"
      ]
    },
    {
      "cell_type": "code",
      "source": [
        "import matplotlib.pyplot as plt\n",
        "import matplotlib.image as mpimg\n",
        "import numpy as np\n",
        "from numpy import asarray\n",
        "from numpy import savetxt\n",
        "import pandas as pd\n",
        "from numpy import loadtxt\n",
        "import os, datetime"
      ],
      "metadata": {
        "id": "fRSt6glEYfBz"
      },
      "execution_count": 2,
      "outputs": []
    },
    {
      "cell_type": "code",
      "source": [
        "# NN-Tools\n",
        "# Shortcuts to keras if (however from tensorflow)\n",
        "import tensorflow as tf\n",
        "from tensorflow import keras\n",
        "#from tensorflow.keras.applications.vgg16 import VGG16\n",
        "from tensorflow.keras.models import Sequential\n",
        "from tensorflow.keras.layers import Dense\n",
        "from tensorflow.keras.preprocessing.image import ImageDataGenerator\n",
        "from tensorflow.keras.models import Sequential\n",
        "from tensorflow.keras.layers import Conv2D, MaxPooling2D\n",
        "from tensorflow.keras.layers import Activation, Dropout, Flatten, Dense, BatchNormalization\n",
        "from tensorflow.keras.callbacks import TensorBoard \n",
        "from tensorflow.keras import layers\n",
        "from tensorflow.keras.utils import to_categorical"
      ],
      "metadata": {
        "id": "Rn6mc4p_iSm3"
      },
      "execution_count": 3,
      "outputs": []
    },
    {
      "cell_type": "code",
      "source": [
        "url_wind_dir = 'https://raw.githubusercontent.com/regiiis/nn_windfarm/main/data/wind_dir.csv'\n",
        "url_farm = 'https://raw.githubusercontent.com/regiiis/nn_windfarm/main/data/windfarm.csv'\n",
        "\n",
        "wind_dir = pd.read_csv(url_wind_dir)\n",
        "wind_v = pd.read_csv(url_farm)\n",
        "\n",
        "# merge two dataframes\n",
        "df = wind_dir.merge(wind_v, left_on='Unnamed: 0', right_on='Unnamed: 0')\n"
      ],
      "metadata": {
        "id": "jGrfMHFhX5ZT"
      },
      "execution_count": 68,
      "outputs": []
    },
    {
      "cell_type": "code",
      "source": [
        "# Wind Direction Analysis\n",
        "\n",
        "# Drop columns with inconsistent wind_dir records\n",
        "# Get mean wind direction per angle, between average of 80.0 and 100.0. Group wind_dir by steps of 10.\n",
        "# Rename numerical titles\n",
        "df_main_2 = df.drop(columns = ['10.0'])\n",
        "df_main_2 = df_main_2.drop(columns = ['40.0'])\n",
        "df_main_2 = df_main_2.drop(columns = ['60.0'])\n",
        "df_main_2 = df_main_2.drop(columns = ['Unnamed: 0'])\n",
        "#df1['wind_dir'] = ((df1['80.0'] + df1['100.0'])/2).round(0)\n",
        "df_main_2['80.0'] = df_main_2['80.0'].round(0)\n",
        "df_main_2['100.0'] = df_main_2['100.0'].round(0)\n",
        "df_main = df_main_2.rename(columns={'80.0': 'eighty', '100.0': 'hundred'}).copy()\n",
        "\n",
        "df_main.head(4)"
      ],
      "metadata": {
        "colab": {
          "base_uri": "https://localhost:8080/",
          "height": 268
        },
        "id": "mHw0jYogb5Ev",
        "outputId": "d8d11980-1ac9-409d-b451-721663087b69"
      },
      "execution_count": 81,
      "outputs": [
        {
          "output_type": "execute_result",
          "data": {
            "text/plain": [
              "   eighty  hundred  WTG1  WTG2  WTG3  WTG4  WTG5  WTG6  WTG7  WTG8  ...  \\\n",
              "0   111.0    113.0  11.3  12.4  10.4   9.8   9.9  10.5  11.4  10.5  ...   \n",
              "1   113.0    116.0  11.6  11.9  10.4  10.7  10.6  10.7  12.0   9.8  ...   \n",
              "2   110.0    112.0  11.8  12.5  10.8  10.6  10.4  10.5  11.9  10.0  ...   \n",
              "3   113.0    116.0  11.7  11.6  10.6  10.4  10.1  10.3  11.7   9.2  ...   \n",
              "\n",
              "   WTG23  WTG24  WTG25  WTG26  WTG27  WTG28  WTG29  WTG30  WTG31  WTG32  \n",
              "0   13.4   12.5   12.2   12.6   12.5   12.8   13.8   12.9   12.4    8.9  \n",
              "1   12.7   13.0   12.5   14.4   12.4   12.8   13.4   13.1   13.2    9.8  \n",
              "2   12.2   12.1   11.7   12.2   12.0   12.2   13.2   12.4   12.3    8.7  \n",
              "3   12.8   13.2   10.9   12.4   12.3   12.3   12.4   11.8   10.5    8.6  \n",
              "\n",
              "[4 rows x 34 columns]"
            ],
            "text/html": [
              "\n",
              "  <div id=\"df-dc87a1d9-7198-48fd-ac3f-092107e1283d\">\n",
              "    <div class=\"colab-df-container\">\n",
              "      <div>\n",
              "<style scoped>\n",
              "    .dataframe tbody tr th:only-of-type {\n",
              "        vertical-align: middle;\n",
              "    }\n",
              "\n",
              "    .dataframe tbody tr th {\n",
              "        vertical-align: top;\n",
              "    }\n",
              "\n",
              "    .dataframe thead th {\n",
              "        text-align: right;\n",
              "    }\n",
              "</style>\n",
              "<table border=\"1\" class=\"dataframe\">\n",
              "  <thead>\n",
              "    <tr style=\"text-align: right;\">\n",
              "      <th></th>\n",
              "      <th>eighty</th>\n",
              "      <th>hundred</th>\n",
              "      <th>WTG1</th>\n",
              "      <th>WTG2</th>\n",
              "      <th>WTG3</th>\n",
              "      <th>WTG4</th>\n",
              "      <th>WTG5</th>\n",
              "      <th>WTG6</th>\n",
              "      <th>WTG7</th>\n",
              "      <th>WTG8</th>\n",
              "      <th>...</th>\n",
              "      <th>WTG23</th>\n",
              "      <th>WTG24</th>\n",
              "      <th>WTG25</th>\n",
              "      <th>WTG26</th>\n",
              "      <th>WTG27</th>\n",
              "      <th>WTG28</th>\n",
              "      <th>WTG29</th>\n",
              "      <th>WTG30</th>\n",
              "      <th>WTG31</th>\n",
              "      <th>WTG32</th>\n",
              "    </tr>\n",
              "  </thead>\n",
              "  <tbody>\n",
              "    <tr>\n",
              "      <th>0</th>\n",
              "      <td>111.0</td>\n",
              "      <td>113.0</td>\n",
              "      <td>11.3</td>\n",
              "      <td>12.4</td>\n",
              "      <td>10.4</td>\n",
              "      <td>9.8</td>\n",
              "      <td>9.9</td>\n",
              "      <td>10.5</td>\n",
              "      <td>11.4</td>\n",
              "      <td>10.5</td>\n",
              "      <td>...</td>\n",
              "      <td>13.4</td>\n",
              "      <td>12.5</td>\n",
              "      <td>12.2</td>\n",
              "      <td>12.6</td>\n",
              "      <td>12.5</td>\n",
              "      <td>12.8</td>\n",
              "      <td>13.8</td>\n",
              "      <td>12.9</td>\n",
              "      <td>12.4</td>\n",
              "      <td>8.9</td>\n",
              "    </tr>\n",
              "    <tr>\n",
              "      <th>1</th>\n",
              "      <td>113.0</td>\n",
              "      <td>116.0</td>\n",
              "      <td>11.6</td>\n",
              "      <td>11.9</td>\n",
              "      <td>10.4</td>\n",
              "      <td>10.7</td>\n",
              "      <td>10.6</td>\n",
              "      <td>10.7</td>\n",
              "      <td>12.0</td>\n",
              "      <td>9.8</td>\n",
              "      <td>...</td>\n",
              "      <td>12.7</td>\n",
              "      <td>13.0</td>\n",
              "      <td>12.5</td>\n",
              "      <td>14.4</td>\n",
              "      <td>12.4</td>\n",
              "      <td>12.8</td>\n",
              "      <td>13.4</td>\n",
              "      <td>13.1</td>\n",
              "      <td>13.2</td>\n",
              "      <td>9.8</td>\n",
              "    </tr>\n",
              "    <tr>\n",
              "      <th>2</th>\n",
              "      <td>110.0</td>\n",
              "      <td>112.0</td>\n",
              "      <td>11.8</td>\n",
              "      <td>12.5</td>\n",
              "      <td>10.8</td>\n",
              "      <td>10.6</td>\n",
              "      <td>10.4</td>\n",
              "      <td>10.5</td>\n",
              "      <td>11.9</td>\n",
              "      <td>10.0</td>\n",
              "      <td>...</td>\n",
              "      <td>12.2</td>\n",
              "      <td>12.1</td>\n",
              "      <td>11.7</td>\n",
              "      <td>12.2</td>\n",
              "      <td>12.0</td>\n",
              "      <td>12.2</td>\n",
              "      <td>13.2</td>\n",
              "      <td>12.4</td>\n",
              "      <td>12.3</td>\n",
              "      <td>8.7</td>\n",
              "    </tr>\n",
              "    <tr>\n",
              "      <th>3</th>\n",
              "      <td>113.0</td>\n",
              "      <td>116.0</td>\n",
              "      <td>11.7</td>\n",
              "      <td>11.6</td>\n",
              "      <td>10.6</td>\n",
              "      <td>10.4</td>\n",
              "      <td>10.1</td>\n",
              "      <td>10.3</td>\n",
              "      <td>11.7</td>\n",
              "      <td>9.2</td>\n",
              "      <td>...</td>\n",
              "      <td>12.8</td>\n",
              "      <td>13.2</td>\n",
              "      <td>10.9</td>\n",
              "      <td>12.4</td>\n",
              "      <td>12.3</td>\n",
              "      <td>12.3</td>\n",
              "      <td>12.4</td>\n",
              "      <td>11.8</td>\n",
              "      <td>10.5</td>\n",
              "      <td>8.6</td>\n",
              "    </tr>\n",
              "  </tbody>\n",
              "</table>\n",
              "<p>4 rows × 34 columns</p>\n",
              "</div>\n",
              "      <button class=\"colab-df-convert\" onclick=\"convertToInteractive('df-dc87a1d9-7198-48fd-ac3f-092107e1283d')\"\n",
              "              title=\"Convert this dataframe to an interactive table.\"\n",
              "              style=\"display:none;\">\n",
              "        \n",
              "  <svg xmlns=\"http://www.w3.org/2000/svg\" height=\"24px\"viewBox=\"0 0 24 24\"\n",
              "       width=\"24px\">\n",
              "    <path d=\"M0 0h24v24H0V0z\" fill=\"none\"/>\n",
              "    <path d=\"M18.56 5.44l.94 2.06.94-2.06 2.06-.94-2.06-.94-.94-2.06-.94 2.06-2.06.94zm-11 1L8.5 8.5l.94-2.06 2.06-.94-2.06-.94L8.5 2.5l-.94 2.06-2.06.94zm10 10l.94 2.06.94-2.06 2.06-.94-2.06-.94-.94-2.06-.94 2.06-2.06.94z\"/><path d=\"M17.41 7.96l-1.37-1.37c-.4-.4-.92-.59-1.43-.59-.52 0-1.04.2-1.43.59L10.3 9.45l-7.72 7.72c-.78.78-.78 2.05 0 2.83L4 21.41c.39.39.9.59 1.41.59.51 0 1.02-.2 1.41-.59l7.78-7.78 2.81-2.81c.8-.78.8-2.07 0-2.86zM5.41 20L4 18.59l7.72-7.72 1.47 1.35L5.41 20z\"/>\n",
              "  </svg>\n",
              "      </button>\n",
              "      \n",
              "  <style>\n",
              "    .colab-df-container {\n",
              "      display:flex;\n",
              "      flex-wrap:wrap;\n",
              "      gap: 12px;\n",
              "    }\n",
              "\n",
              "    .colab-df-convert {\n",
              "      background-color: #E8F0FE;\n",
              "      border: none;\n",
              "      border-radius: 50%;\n",
              "      cursor: pointer;\n",
              "      display: none;\n",
              "      fill: #1967D2;\n",
              "      height: 32px;\n",
              "      padding: 0 0 0 0;\n",
              "      width: 32px;\n",
              "    }\n",
              "\n",
              "    .colab-df-convert:hover {\n",
              "      background-color: #E2EBFA;\n",
              "      box-shadow: 0px 1px 2px rgba(60, 64, 67, 0.3), 0px 1px 3px 1px rgba(60, 64, 67, 0.15);\n",
              "      fill: #174EA6;\n",
              "    }\n",
              "\n",
              "    [theme=dark] .colab-df-convert {\n",
              "      background-color: #3B4455;\n",
              "      fill: #D2E3FC;\n",
              "    }\n",
              "\n",
              "    [theme=dark] .colab-df-convert:hover {\n",
              "      background-color: #434B5C;\n",
              "      box-shadow: 0px 1px 3px 1px rgba(0, 0, 0, 0.15);\n",
              "      filter: drop-shadow(0px 1px 2px rgba(0, 0, 0, 0.3));\n",
              "      fill: #FFFFFF;\n",
              "    }\n",
              "  </style>\n",
              "\n",
              "      <script>\n",
              "        const buttonEl =\n",
              "          document.querySelector('#df-dc87a1d9-7198-48fd-ac3f-092107e1283d button.colab-df-convert');\n",
              "        buttonEl.style.display =\n",
              "          google.colab.kernel.accessAllowed ? 'block' : 'none';\n",
              "\n",
              "        async function convertToInteractive(key) {\n",
              "          const element = document.querySelector('#df-dc87a1d9-7198-48fd-ac3f-092107e1283d');\n",
              "          const dataTable =\n",
              "            await google.colab.kernel.invokeFunction('convertToInteractive',\n",
              "                                                     [key], {});\n",
              "          if (!dataTable) return;\n",
              "\n",
              "          const docLinkHtml = 'Like what you see? Visit the ' +\n",
              "            '<a target=\"_blank\" href=https://colab.research.google.com/notebooks/data_table.ipynb>data table notebook</a>'\n",
              "            + ' to learn more about interactive tables.';\n",
              "          element.innerHTML = '';\n",
              "          dataTable['output_type'] = 'display_data';\n",
              "          await google.colab.output.renderOutput(dataTable, element);\n",
              "          const docLink = document.createElement('div');\n",
              "          docLink.innerHTML = docLinkHtml;\n",
              "          element.appendChild(docLink);\n",
              "        }\n",
              "      </script>\n",
              "    </div>\n",
              "  </div>\n",
              "  "
            ]
          },
          "metadata": {},
          "execution_count": 81
        }
      ]
    },
    {
      "cell_type": "code",
      "source": [
        "df_main = tf.convert_to_tensor(df_main)\n",
        "df_main[1]"
      ],
      "metadata": {
        "id": "NI8CdtzkYt_6",
        "outputId": "7a061a80-d2c6-45bc-f550-c6eaea2e49f3",
        "colab": {
          "base_uri": "https://localhost:8080/"
        }
      },
      "execution_count": 77,
      "outputs": [
        {
          "output_type": "execute_result",
          "data": {
            "text/plain": [
              "<tf.Tensor: shape=(34,), dtype=float64, numpy=\n",
              "array([113. , 116. ,  11.6,  11.9,  10.4,  10.7,  10.6,  10.7,  12. ,\n",
              "         9.8,  11.8,  11.6,  11. ,   9.9,  10.5,  12. ,  12. ,  12. ,\n",
              "        12.3,  12.1,  12.1,  12.1,  10.1,  12.6,  12.7,  13. ,  12.5,\n",
              "        14.4,  12.4,  12.8,  13.4,  13.1,  13.2,   9.8])>"
            ]
          },
          "metadata": {},
          "execution_count": 77
        }
      ]
    },
    {
      "cell_type": "code",
      "source": [
        "# Create train, validate and test data set.\n",
        "reduced_df = df_main.sample(frac=0.8,random_state=200) # random state is a seed value\n",
        "\n",
        "train_df_2 = reduced_df.sample(frac=0.8,random_state=200) # random state is a seed value\n",
        "train_df = tf.convert_to_tensor(train_df_2)\n",
        "\n",
        "validation_test_df_2 = reduced_df.drop(train_df_2.index)\n",
        "validation_test_df = tf.convert_to_tensor(reduced_df.drop(train_df_2.index))\n",
        "\n",
        "validation_df_2 = validation_test_df_2.sample(frac=0.5,random_state=200)\n",
        "validation_df = tf.convert_to_tensor(validation_test_df_2.sample(frac=0.5,random_state=200))\n",
        "\n",
        "test_df = tf.convert_to_tensor(validation_test_df_2.drop(validation_df_2.index))\n"
      ],
      "metadata": {
        "id": "XubwIwTKdPWq"
      },
      "execution_count": 88,
      "outputs": []
    },
    {
      "cell_type": "code",
      "source": [
        "# Build and compile model with Keras\n",
        "model = keras.Sequential()\n",
        "model.add(Dense(34, input_shape=(34,), activation='relu'))\n",
        "model.add(Dense(34, activation='relu'))\n",
        "model.add(Dense(34, activation='relu'))\n",
        "model.add(Dense(34, activation='sigmoid'))\n",
        "\n",
        "model.compile(loss='mean_squared_error', optimizer='adam', metrics=['accuracy'])\n",
        "\n",
        "model.summary()"
      ],
      "metadata": {
        "colab": {
          "base_uri": "https://localhost:8080/"
        },
        "id": "t895xUoodp2K",
        "outputId": "91aa458c-017e-4e2c-cb15-0de5bd1458e5"
      },
      "execution_count": 89,
      "outputs": [
        {
          "output_type": "stream",
          "name": "stdout",
          "text": [
            "Model: \"sequential_18\"\n",
            "_________________________________________________________________\n",
            " Layer (type)                Output Shape              Param #   \n",
            "=================================================================\n",
            " dense_65 (Dense)            (None, 34)                1190      \n",
            "                                                                 \n",
            " dense_66 (Dense)            (None, 34)                1190      \n",
            "                                                                 \n",
            " dense_67 (Dense)            (None, 34)                1190      \n",
            "                                                                 \n",
            " dense_68 (Dense)            (None, 34)                1190      \n",
            "                                                                 \n",
            "=================================================================\n",
            "Total params: 4,760\n",
            "Trainable params: 4,760\n",
            "Non-trainable params: 0\n",
            "_________________________________________________________________\n"
          ]
        }
      ]
    },
    {
      "cell_type": "code",
      "source": [
        "# Fit the Keras model on the dataset\n",
        "\n",
        "logdir = os.path.join(\"logs_feature_extraction\", datetime.datetime.now().strftime(\"%Y%m%d-%H%M%S\"))\n",
        "\n",
        "callbacks = [\n",
        "    keras.callbacks.ModelCheckpoint(filepath=\"feature_extraction.h5\", save_best_only=True, monitor=\"val_loss\"),\n",
        "    tf.keras.callbacks.TensorBoard(logdir, histogram_freq=1)\n",
        "]\n",
        "\n",
        "history = model.fit(\n",
        "    train_df,\n",
        "    epochs = 60,\n",
        "    batch_size=10,\n",
        "    validation_data = validation_df,\n",
        "    callbacks = callbacks\n",
        ")"
      ],
      "metadata": {
        "colab": {
          "base_uri": "https://localhost:8080/",
          "height": 364
        },
        "id": "jzm36Wlve6jg",
        "outputId": "9cd301db-67a5-4407-b0ce-0cd6fbf34453"
      },
      "execution_count": 90,
      "outputs": [
        {
          "output_type": "error",
          "ename": "ValueError",
          "evalue": "ignored",
          "traceback": [
            "\u001b[0;31m---------------------------------------------------------------------------\u001b[0m",
            "\u001b[0;31mValueError\u001b[0m                                Traceback (most recent call last)",
            "\u001b[0;32m<ipython-input-90-9dcb7a853a64>\u001b[0m in \u001b[0;36m<module>\u001b[0;34m\u001b[0m\n\u001b[1;32m     13\u001b[0m     \u001b[0mbatch_size\u001b[0m\u001b[0;34m=\u001b[0m\u001b[0;36m10\u001b[0m\u001b[0;34m,\u001b[0m\u001b[0;34m\u001b[0m\u001b[0;34m\u001b[0m\u001b[0m\n\u001b[1;32m     14\u001b[0m     \u001b[0mvalidation_data\u001b[0m \u001b[0;34m=\u001b[0m \u001b[0mvalidation_df\u001b[0m\u001b[0;34m,\u001b[0m\u001b[0;34m\u001b[0m\u001b[0;34m\u001b[0m\u001b[0m\n\u001b[0;32m---> 15\u001b[0;31m     \u001b[0mcallbacks\u001b[0m \u001b[0;34m=\u001b[0m \u001b[0mcallbacks\u001b[0m\u001b[0;34m\u001b[0m\u001b[0;34m\u001b[0m\u001b[0m\n\u001b[0m\u001b[1;32m     16\u001b[0m )\n",
            "\u001b[0;32m/usr/local/lib/python3.7/dist-packages/keras/utils/traceback_utils.py\u001b[0m in \u001b[0;36merror_handler\u001b[0;34m(*args, **kwargs)\u001b[0m\n\u001b[1;32m     65\u001b[0m     \u001b[0;32mexcept\u001b[0m \u001b[0mException\u001b[0m \u001b[0;32mas\u001b[0m \u001b[0me\u001b[0m\u001b[0;34m:\u001b[0m  \u001b[0;31m# pylint: disable=broad-except\u001b[0m\u001b[0;34m\u001b[0m\u001b[0;34m\u001b[0m\u001b[0m\n\u001b[1;32m     66\u001b[0m       \u001b[0mfiltered_tb\u001b[0m \u001b[0;34m=\u001b[0m \u001b[0m_process_traceback_frames\u001b[0m\u001b[0;34m(\u001b[0m\u001b[0me\u001b[0m\u001b[0;34m.\u001b[0m\u001b[0m__traceback__\u001b[0m\u001b[0;34m)\u001b[0m\u001b[0;34m\u001b[0m\u001b[0;34m\u001b[0m\u001b[0m\n\u001b[0;32m---> 67\u001b[0;31m       \u001b[0;32mraise\u001b[0m \u001b[0me\u001b[0m\u001b[0;34m.\u001b[0m\u001b[0mwith_traceback\u001b[0m\u001b[0;34m(\u001b[0m\u001b[0mfiltered_tb\u001b[0m\u001b[0;34m)\u001b[0m \u001b[0;32mfrom\u001b[0m \u001b[0;32mNone\u001b[0m\u001b[0;34m\u001b[0m\u001b[0;34m\u001b[0m\u001b[0m\n\u001b[0m\u001b[1;32m     68\u001b[0m     \u001b[0;32mfinally\u001b[0m\u001b[0;34m:\u001b[0m\u001b[0;34m\u001b[0m\u001b[0;34m\u001b[0m\u001b[0m\n\u001b[1;32m     69\u001b[0m       \u001b[0;32mdel\u001b[0m \u001b[0mfiltered_tb\u001b[0m\u001b[0;34m\u001b[0m\u001b[0;34m\u001b[0m\u001b[0m\n",
            "\u001b[0;32m/usr/local/lib/python3.7/dist-packages/tensorflow/python/framework/ops.py\u001b[0m in \u001b[0;36m__bool__\u001b[0;34m(self)\u001b[0m\n\u001b[1;32m   1132\u001b[0m \u001b[0;34m\u001b[0m\u001b[0m\n\u001b[1;32m   1133\u001b[0m   \u001b[0;32mdef\u001b[0m \u001b[0m__bool__\u001b[0m\u001b[0;34m(\u001b[0m\u001b[0mself\u001b[0m\u001b[0;34m)\u001b[0m\u001b[0;34m:\u001b[0m\u001b[0;34m\u001b[0m\u001b[0;34m\u001b[0m\u001b[0m\n\u001b[0;32m-> 1134\u001b[0;31m     \u001b[0;32mreturn\u001b[0m \u001b[0mbool\u001b[0m\u001b[0;34m(\u001b[0m\u001b[0mself\u001b[0m\u001b[0;34m.\u001b[0m\u001b[0m_numpy\u001b[0m\u001b[0;34m(\u001b[0m\u001b[0;34m)\u001b[0m\u001b[0;34m)\u001b[0m\u001b[0;34m\u001b[0m\u001b[0;34m\u001b[0m\u001b[0m\n\u001b[0m\u001b[1;32m   1135\u001b[0m \u001b[0;34m\u001b[0m\u001b[0m\n\u001b[1;32m   1136\u001b[0m   \u001b[0m__nonzero__\u001b[0m \u001b[0;34m=\u001b[0m \u001b[0m__bool__\u001b[0m\u001b[0;34m\u001b[0m\u001b[0;34m\u001b[0m\u001b[0m\n",
            "\u001b[0;31mValueError\u001b[0m: The truth value of an array with more than one element is ambiguous. Use a.any() or a.all()"
          ]
        }
      ]
    }
  ]
}